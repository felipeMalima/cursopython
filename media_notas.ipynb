{
  "nbformat": 4,
  "nbformat_minor": 0,
  "metadata": {
    "colab": {
      "provenance": []
    },
    "kernelspec": {
      "name": "python3",
      "display_name": "Python 3"
    },
    "language_info": {
      "name": "python"
    }
  },
  "cells": [
    {
      "cell_type": "code",
      "source": [
        "print(\"Vamos calcular a média das duas provas feitas pelos seus alunos. Os valores não podem ultrapassar 10.0\\n\")\n",
        "\n",
        "num1 = input(\"digite a primeira nota: \")\n",
        "print(\"A primeira nota foi: \", num1, \"\\n\")\n",
        "num2 = input(\"digite a segunda nota: \")\n",
        "print(\"A segunda nota foi: \", num2, \"\\n\")\n",
        "\n",
        "nota_total = (float(num1) + float(num2))\n",
        "nota_final = nota_total/2\n",
        "\n",
        "\n",
        "if float(num1) > 10:\n",
        "  print(\"O valor da nota 1 é inválido.\")\n",
        "elif float(num2) > 10:\n",
        "  print(\"O valor da nota 2 é inválido.\")\n",
        "elif nota_final <= 6.0:\n",
        "  print(\"O aluno está de RECUPERAÇÃO, sua nota total foi:\", nota_total,\"e sua média final foi:\", nota_final)\n",
        "elif nota_final >= 8.5:\n",
        "  print(\"Esse aluno foi APROVADO COM HONRAS, sua nota total foi:\", nota_total,\"e sua média final foi:\", nota_final)\n",
        "else:\n",
        "  print(\"Esse aluno foi APROVADO, sua nota total foi:\", nota_total,\"e sua média final foi:\", nota_final)"
      ],
      "metadata": {
        "colab": {
          "base_uri": "https://localhost:8080/"
        },
        "id": "w8QxcGbYhnkt",
        "outputId": "1144a58e-2497-4019-a55e-118cf8ac4ffa"
      },
      "execution_count": 34,
      "outputs": [
        {
          "output_type": "stream",
          "name": "stdout",
          "text": [
            "Vamos calcular a média das duas provas feitas pelos seus alunos. Os valores não podem ultrapassar 10.0\n",
            "\n",
            "digite a primeira nota: 8\n",
            "A primeira nota foi:  8 \n",
            "\n",
            "digite a segunda nota: 9\n",
            "A segunda nota foi:  9 \n",
            "\n",
            "Esse aluno foi APROVADO COM HONRAS, sua nota total foi: 17.0 e sua média final foi: 8.5\n"
          ]
        }
      ]
    }
  ]
}